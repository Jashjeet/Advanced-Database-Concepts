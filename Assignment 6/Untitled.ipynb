{
 "cells": [
  {
   "cell_type": "markdown",
   "metadata": {},
   "source": [
    "                                                Assignment 6\n",
    "\n",
    "                                                Jashjeet Singh Madan\n",
    "\n",
    "                                                April 1, 2020"
   ]
  },
  {
   "cell_type": "markdown",
   "metadata": {},
   "source": [
    "# Part 1"
   ]
  },
  {
   "cell_type": "markdown",
   "metadata": {},
   "source": [
    "## Q.1.\n",
    "In the translation algorithm from SQL to RA, when we eliminated set\n",
    "predicates, we tacitly assumed that the argument of each set predicate\n",
    "was a (possibly parameterized) SQL query that did not use a UNION,\n",
    "INTERSECT, or an EXCEPT operation.\n",
    "In this problem, you are asked to extend the translation algorithm from\n",
    "SQL to RA such that (possibly parameterized) set predicates [NOT] IN\n",
    "are eliminated that have as an argument a SQL query that uses a UNION,\n",
    "INTERSECT, or EXCEPT operation.\n",
    "More specifically, consider the following types of queries using the [NOT]\n",
    "IN set predicate.\n",
    "(Help taken from Harsha R.S.)"
   ]
  },
  {
   "cell_type": "markdown",
   "metadata": {},
   "source": [
    "SELECT L(r1,...,rk)\n",
    "FROM R1 r1, ..., Rk rk\n",
    "WHERE C1(r1,...,rk) AND\n",
    "r1.A1 [NOT] IN (SELECT DISTINCT s1.B1\n",
    "FROM S1 s1,..., S1 sm\n",
    "WHERE C2(s1,...,sm,r1,...,rk)\n",
    "[UNION|INTERSECT|EXCEPT]\n",
    "SELECT DISTINCT t1.C1\n",
    "FROM T1 t1, ..., Tn tn\n",
    "WHERE C3(t1,...,tn,r1,...,rk))"
   ]
  },
  {
   "cell_type": "markdown",
   "metadata": {},
   "source": [
    "### (a)\n",
    "Show how such SQL queries can be translated to equivalent RA expressions. Be careful in the translation since you should take into account that projections do not in general distribute over intersections or over set differences."
   ]
  },
  {
   "cell_type": "markdown",
   "metadata": {},
   "source": [
    "SELECT L(r1)\n",
    "FROM R1 r1\n",
    "WHERE C1(r1) AND r1.A1 [NOT] IN (SELECT DISTINCT s1.B1\n",
    "FROM S1 s1\n",
    "WHERE C2(s1,r1)\n",
    "[UNION|INTERSECT|EXCEPT]\n",
    "SELECT DISTINCT t1.C1\n",
    "FROM T1 t1\n",
    "WHERE C3(t1,r1))"
   ]
  },
  {
   "cell_type": "markdown",
   "metadata": {},
   "source": [
    "##### \"IN\"   k=1, m=1 and n=1 case:\n",
    "\n",
    "Let E represent the following query:\n",
    "\n",
    "$\\pi_{L(r)}(\\sigma_{C1(R1)}(R1))\\bowtie (\\pi_{(S1.B1)}(S1 \\ltimes_{C2(S1,R2)} R2)[\\cup|\\cap|-]\\pi_{(T1.C1)}(T1 \\ltimes_{C3(T1,R3)}R3))$\n",
    "\n",
    "Then the final query will be represented by:\n",
    "\n",
    "$\\pi_{L(r)}(R1 \\ltimes E)$"
   ]
  },
  {
   "cell_type": "markdown",
   "metadata": {},
   "source": [
    "##### \"IN\"   General case:\n",
    "\n",
    "Let E represent the following query:\n",
    "\n",
    "$\\pi_{L(r1,...,rk)}(\\sigma_{C1(R1...Rk)}(R1...Rk))\\bowtie (\\pi_{(S1.B1)}(S1...Sm \\ltimes_{C2(S1...Sm,R1...Rk)} R1...Rk)[\\cup|\\cap|-]\\pi_{(T1.C1)}(T1...Tn \\ltimes_{C3(T1...Tn,R1...Rk)}R1...Rk))$\n",
    "\n",
    "Then the final query will be represented by:\n",
    "\n",
    "$\\pi_{L(r1,...,rk)}(R1...Rk \\ltimes E)$"
   ]
  },
  {
   "cell_type": "markdown",
   "metadata": {},
   "source": [
    "##### \"NOT IN\"   k=1, m=1 and n=1 case:\n",
    "\n",
    "Let E represent the following query:\n",
    "\n",
    "$\\pi_{L(r)}(\\sigma_{C1(R1)}(R1))- (\\pi_{(S1.B1)}(S1 \\ltimes_{C2(S1,R2)} R2)[\\cup|\\cap|-]\\pi_{(T1.C1)}(T1 \\ltimes_{C3(T1,R3)}R3))$\n",
    "\n",
    "Then the final query will be represented by:\n",
    "\n",
    "$\\pi_{L(r)}(R1 \\ltimes E)$"
   ]
  },
  {
   "cell_type": "markdown",
   "metadata": {},
   "source": [
    "##### \"NOT IN\"   General case:\n",
    "\n",
    "Let E represent the following query:\n",
    "\n",
    "$\\pi_{L(r1,...,rk)}(\\sigma_{C1(R1...Rk)}(R1...Rk)) - (\\pi_{(S1.B1)}(S1...Sm \\ltimes_{C2(S1...Sm,R1...Rk)} R1...Rk)[\\cup|\\cap|-]\\pi_{(T1.C1)}(T1...Tn \\ltimes_{C3(T1...Tn,R1...Rk)}R1...Rk))$\n",
    "\n",
    "Then the final query will be represented by:\n",
    "\n",
    "$\\pi_{L(r1,...,rk)}(R1...Rk \\ltimes E)$"
   ]
  },
  {
   "cell_type": "markdown",
   "metadata": {},
   "source": [
    "### (b)\n",
    "Show how your translation can be improved when the variable “r1” does not occur in the conditions “C2” and “C3” in the subquery. You don’t have to solve this query for the general case, but rather for the SQL query"
   ]
  },
  {
   "cell_type": "markdown",
   "metadata": {},
   "source": [
    "SELECT L(r)\n",
    "FROM R1 r1\n",
    "WHERE C1(r1) [NOT] IN r1.A (SELECT DISTINCT s1.B1\n",
    "FROM S1 s1\n",
    "WHERE C2(s1)\n",
    "[UNION|INTERSECT|EXCEPT]\n",
    "SELECT DISTINCT t1.C1\n",
    "FROM T1 t1\n",
    "WHERE C3(t1))"
   ]
  },
  {
   "cell_type": "markdown",
   "metadata": {},
   "source": [
    "##### \"IN\"   k=1, m=1 and n=1 case:\n",
    "\n",
    "Let E represent the following query:\n",
    "\n",
    "$\\pi_{L(r)}(\\sigma_{C1(R1)}(R1))\\bowtie (\\pi_{(S1.B1)}(\\sigma_{(C2(S1))}S1[\\cup|\\cap|-]\\pi_{(T1.C1)}(T1)))$\n",
    "\n",
    "Then the final query will remain same and will be represented by:\n",
    "\n",
    "$\\pi_{L(r)}(R1 \\ltimes E)$"
   ]
  },
  {
   "cell_type": "markdown",
   "metadata": {},
   "source": [
    "##### \"NOT IN\"   k=1, m=1 and n=1 case:\n",
    "\n",
    "Let E represent the following query:\n",
    "\n",
    "$\\pi_{L(r)}(\\sigma_{C1(R1)}(R1))- (\\pi_{(S1.B1)}(S1 [\\cup|\\cap|-]\\pi_{(T1.C1)}(T1)))$\n",
    "\n",
    "Then the final query will remain same and will be represented by:\n",
    "\n",
    "$\\pi_{L(r)}(R1 \\ltimes E)$"
   ]
  },
  {
   "cell_type": "markdown",
   "metadata": {},
   "source": [
    "## Q.2.\n",
    "\n",
    "We have to prove the correctness of the following rewrite rule\n",
    "\n",
    "$\\pi_{a}(R \\bowtie_{(R.a=S.b \\wedge R.b=S.a)} S)  = \\pi_{a}(\\pi_{a,b}(R) \\cap\\pi_{ a,b} (S))    $\n",
    "\n",
    "$ \\pi_{a}(R \\bowtie_{(R.a=S.b \\wedge R.b=S.a)} S) = \\{a | (\\exists r \\exists s (R|a,b,c)(r) \\wedge (S|a,b,d)(s) \\wedge r.a=s.b \\wedge r.b=s.a)\\}$\n",
    "\n",
    "\n",
    "\n",
    "=$\\{a | (\\exists a \\exists b \\exists c \\exists d (R|a,b,c) \\wedge (S|a,b,d) \\wedge R.a=S.b \\wedge R.b=S.a)\\}$\n",
    "\n",
    "=$\\{a | ((\\exists a \\exists b \\exists c (R|a,b,c)) \\wedge (\\exists a \\exists b \\exists d(S|a,b,d)) \\wedge R.a=S.b \\wedge R.b=S.a)\\}$\n",
    "\n",
    "=$\\{a | (\\exists a \\exists b  ((\\exists c(R|a,b,c)) \\wedge (\\exists d(S|a,b,d)) \\wedge R.a=S.b \\wedge R.b=S.a))\\}$\n",
    "\n",
    "=$\\{a | (\\exists b  (((a,b)\\in\\pi_{(a,b)}(R)) \\wedge ((b,a)\\in\\pi_{(b,a)}(S)) \\wedge R.a=S.b \\wedge R.b=S.a))\\}$\n",
    "\n",
    "The equality of ((R.a=S.b) and (R.b=S.a)) which is nothing but ((R.a,R.b)=(S.b,S.a)).\n",
    "Taking the intersection will give the same result.\n",
    "\n",
    "=$\\pi_{a}(\\pi_{(a,b)}(R) \\cap \\pi_{(b,a)}(S))$"
   ]
  },
  {
   "cell_type": "markdown",
   "metadata": {},
   "source": [
    "# Part 2"
   ]
  },
  {
   "cell_type": "markdown",
   "metadata": {},
   "source": [
    "## Q.3. Part (a)"
   ]
  },
  {
   "cell_type": "markdown",
   "metadata": {},
   "source": [
    "$\\pi_{(S.sid, S.sname)}$$(\\sigma_{(S.sid=M.sid \\wedge M.major='CS' \\wedge T.sid= S.sid \\wedge T.bookno=C.bookno \\wedge C.bookno=B1.bookno \\wedge C.citedbookno=B2.bookno \\wedge B1.price<B2.price)}(S \\times M \\times T \\times C \\times B1 \\times B2))$"
   ]
  },
  {
   "cell_type": "markdown",
   "metadata": {},
   "source": [
    "## Q.3. Part (b)"
   ]
  },
  {
   "cell_type": "markdown",
   "metadata": {},
   "source": [
    "##### Step 1"
   ]
  },
  {
   "cell_type": "markdown",
   "metadata": {},
   "source": [
    "$\\pi_{(S.sid, S.sname)}$$(\\sigma_{(S.sid=M.sid \\wedge M.major='CS' \\wedge T.sid= S.sid \\wedge T.bookno=C.bookno \\wedge C.bookno=B1.bookno \\wedge C.citedbookno=B2.bookno \\wedge B1.price<B2.price)}(S \\times M \\times T \\times C \\times B1 \\times B2))$"
   ]
  },
  {
   "cell_type": "markdown",
   "metadata": {},
   "source": [
    "##### Step 2\n",
    "##### Pushing selections and projections inside before joining"
   ]
  },
  {
   "cell_type": "markdown",
   "metadata": {},
   "source": [
    "<hr>"
   ]
  },
  {
   "cell_type": "markdown",
   "metadata": {},
   "source": [
    "$\\pi_{(S.sid, S.sname)}$$(\\sigma_{(S.sid=M.sid \\wedge T.sid= S.sid \\wedge T.bookno=C.bookno \\wedge C.bookno=B1.bookno \\wedge C.citedbookno=B2.bookno \\wedge B1.price<B2.price)}(\\sigma_{(M.major='CS')}(S \\times M \\times T \\times C \\times B1 \\times B2)))$"
   ]
  },
  {
   "cell_type": "markdown",
   "metadata": {},
   "source": [
    "##### Step 3\n",
    "##### Using natural joins instead of cross joins"
   ]
  },
  {
   "cell_type": "markdown",
   "metadata": {},
   "source": [
    "$\\pi_{(S.sid, S.sname)}(\\pi_{(S.sid, S.sname)}(S) \\bowtie_{(S.sid=T.sid)}(\\pi_{(T.sid)}(T \\bowtie_{(T.bookno=C.bookno)}(C \\bowtie_{(C.bookno=B1.bookno)}(B1))\\bowtie_{(C.citedbookno=B2.bookno \\wedge B1.price<B2.price)} (B2)))\\bowtie_{(T.sid=M.sid)}(\\sigma_{(M.major='CS')}(M)))$"
   ]
  },
  {
   "cell_type": "markdown",
   "metadata": {},
   "source": [
    "##### Step 4\n",
    "#### Using semijoins to keep only required attributes"
   ]
  },
  {
   "cell_type": "markdown",
   "metadata": {},
   "source": [
    "$\\pi_{(S.sid, S.sname)}(\\pi_{(S.sid, S.sname)}(S) \\ltimes \\pi_{(T.sid)}(\\pi_{(T.sid)}(T \\bowtie_{(T.bookno=C.bookno)}(C \\bowtie_{(C.bookno=B1.bookno)}(B1))\\bowtie_{(C.citedbookno=B2.bookno \\wedge B1.price<B2.price)} (B2)))\\bowtie_{(T.sid=M.sid)}(\\sigma_{(M.major='CS')}(M)))$"
   ]
  },
  {
   "cell_type": "markdown",
   "metadata": {},
   "source": [
    "## Q.4. Part (a)"
   ]
  },
  {
   "cell_type": "markdown",
   "metadata": {},
   "source": [
    "$ \\pi_{(S.sid,S.sname,M.major)}(\\sigma_{(M.sid=S.sid)}(M) \\times (\\pi_{(S.sid, S.sname)}(\\sigma_{(S.sid=M.sid \\wedge T.sid= S.sid \\wedge T.bookno=B.bookno \\wedge B.price<50)}(S \\times M \\times T \\times B))$\n",
    "\n",
    "$-$\n",
    "\n",
    "$\\pi_{(S.sid, S.sname)}(\\sigma_{(S.sid=M.sid \\wedge M.major='CS')}(S \\times M))$\n",
    "\n",
    "$-$\n",
    "\n",
    "$\\pi_{(S.sid, S.sname)}(\\sigma_{(S.sid=M.sid \\wedge T.sid= S.sid \\wedge T.bookno=B.bookno \\wedge B.price<30)}(S \\times M \\times T \\times B))))$"
   ]
  },
  {
   "cell_type": "markdown",
   "metadata": {},
   "source": [
    "## Q.4. Part (b)"
   ]
  },
  {
   "cell_type": "markdown",
   "metadata": {},
   "source": [
    "##### Step 1"
   ]
  },
  {
   "cell_type": "markdown",
   "metadata": {},
   "source": [
    "$ \\pi_{(S.sid,S.sname,M.major)}(\\sigma_{(M.sid=S.sid)}(M) \\times (\\pi_{(S.sid, S.sname)}(\\sigma_{(S.sid=M.sid \\wedge T.sid= S.sid \\wedge T.bookno=B.bookno \\wedge B.price<50)}(S \\times M \\times T \\times B))$\n",
    "\n",
    "$-$\n",
    "\n",
    "$\\pi_{(S.sid, S.sname)}(\\sigma_{(S.sid=M.sid \\wedge M.major='CS')}(S \\times M))$\n",
    "\n",
    "$-$\n",
    "\n",
    "$\\pi_{(S.sid, S.sname)}(\\sigma_{(S.sid=M.sid \\wedge T.sid= S.sid \\wedge T.bookno=B.bookno \\wedge B.price<30)}(S \\times M \\times T \\times B))))$"
   ]
  },
  {
   "cell_type": "markdown",
   "metadata": {},
   "source": [
    "##### Step 2\n",
    "##### Pushing selections and projections inside before joining"
   ]
  },
  {
   "cell_type": "markdown",
   "metadata": {},
   "source": [
    "$ \\pi_{(S.sid,S.sname,M.major)}(\\sigma_{(M.sid=S.sid)}(M) \\times          ( \\pi_{(S.sid, S.sname)}(\\sigma_{(S.sid= T.sid)}(\\sigma_{(T.bookno=B.bookno)}(\\sigma_{(B.price<50)}(S \\times T \\times B))))$\n",
    "\n",
    "$-$\n",
    "\n",
    "$\\pi_{(S.sid, S.sname)}(\\sigma_{(S.sid=M.sid)}(\\sigma_{(M.major='CS')}(S \\times M)))$\n",
    "\n",
    "$-$\n",
    "\n",
    "$\\pi_{(S.sid, S.sname)}(\\sigma_{(S.sid= T.sid)}(\\sigma_{(T.bookno=B.bookno)}(\\sigma_{(B.price<30)}(S \\times T \\times B))))))$\n"
   ]
  },
  {
   "cell_type": "markdown",
   "metadata": {},
   "source": [
    "##### Step 3\n",
    "##### Using natural joins instead of cross joins"
   ]
  },
  {
   "cell_type": "markdown",
   "metadata": {},
   "source": [
    "$\\pi_{(S.sid,S.sname,M.major)}(\\pi_{(M.major)}(M) \\bowtie_{(M.sid=S.sid)} (      \\pi_{(S.sid, S.sname)}(S \\bowtie_{(S.sid=T.sid)} T \\bowtie_{(T.bookno=B.bookno \\wedge B.price<50)} B)$\n",
    "\n",
    "$-$\n",
    "\n",
    "$\\pi_{(S.sid, S.sname)}(S \\bowtie_{(S.sid=M.sid \\wedge M.major='CS')} M)$\n",
    "\n",
    "$-$\n",
    "\n",
    "$\\pi_{(S.sid, S.sname)}(S \\bowtie_{(S.sid=T.sid)} T \\bowtie_{(T.bookno=B.bookno \\wedge B.price<30)} B)))$\n"
   ]
  },
  {
   "cell_type": "markdown",
   "metadata": {},
   "source": [
    "##### Step 4\n",
    "#### Using semijoins to keep only required attributes"
   ]
  },
  {
   "cell_type": "markdown",
   "metadata": {},
   "source": [
    "$\\pi_{(S.sid, S.sname, M.major)}(\\pi_{(M.major)}(M) \\bowtie_{(M.sid=S.sid)} \\pi_{(S.sid, S.sname)}(S))   \\ltimes$\n",
    "\n",
    "\n",
    "\n",
    "$(\\pi_{(T.sid)}(T \\bowtie_{(T.bookno=B.bookno \\wedge B.price<50)} B)  -  \\pi_{(M.sid)}(\\sigma_{(M.major='CS')} M)  -  \\pi_{(T.sid)}(T \\bowtie_{(T.bookno=B.bookno \\wedge B.price<30)} B))$\n"
   ]
  },
  {
   "cell_type": "markdown",
   "metadata": {},
   "source": [
    "## Q.5. Part (a)"
   ]
  },
  {
   "cell_type": "markdown",
   "metadata": {},
   "source": [
    "($\\pi_{(S.sid,S.sname,B.bookno)}(\\sigma_{(S.sid=T.sid \\wedge T.bookno=B.bookno)}(S \\times T \\times B)))$\n",
    "\n",
    "$-$\n",
    "\n",
    "$(\\pi_{(q1.sid,q1.sname,q1.bookno)}(\\pi_{(q1.sid,q1.sname,q1.bookno,q1.price)} (\\sigma_{(S1.sid=T1.sid \\wedge T1.bookno=B1.bookno)}(S1 \\times T1 \\times B1) q1 )\n",
    "\\bowtie_ {(q1.sid=q2.sid \\wedge q1.price<q2.price)} \\pi_{(q2.sid,q2.sname,q2.bookno,q2.price)}(\\sigma_{(S2.sid=T2.sid \\wedge T2.bookno=B2.bookno)}(S2 \\times T2 \\times B2) q2)))$"
   ]
  },
  {
   "cell_type": "markdown",
   "metadata": {},
   "source": [
    "## Q.5. Part (b)"
   ]
  },
  {
   "cell_type": "markdown",
   "metadata": {},
   "source": [
    "##### Step 1"
   ]
  },
  {
   "cell_type": "markdown",
   "metadata": {},
   "source": [
    "($\\pi_{(S.sid,S.sname,B.bookno)}(\\sigma_{(S.sid=T.sid \\wedge T.bookno=B.bookno)}(S \\times T \\times B)))$\n",
    "\n",
    "$-$\n",
    "\n",
    "$(\\pi_{(q1.sid,q1.sname,q1.bookno)}(\\pi_{(q1.sid,q1.sname,q1.bookno,q1.price)} (\\sigma_{(S1.sid=T1.sid \\wedge T1.bookno=B1.bookno)}(S1 \\times T1 \\times B1) q1 ))\n",
    "\\bowtie_ {(q1.sid=q2.sid \\wedge q1.price<q2.price)}(\\pi_{(q2.sid,q2.sname,q2.bookno,q2.price)}(\\sigma_{(S2.sid=T2.sid \\wedge T2.bookno=B2.bookno)}(S2 \\times T2 \\times B2) q2)))$"
   ]
  },
  {
   "cell_type": "markdown",
   "metadata": {},
   "source": [
    "##### Step 2\n",
    "##### Using natural joins instead of cross joins"
   ]
  },
  {
   "cell_type": "markdown",
   "metadata": {},
   "source": [
    "($\\pi_{(S.sid,S.sname,B.bookno)}(S \\bowtie_{(S.sid=T.sid)} T \\bowtie_{(T.bookno=B.bookno)} B))$\n",
    "\n",
    "$-$\n",
    "\n",
    "$(\\pi_{(q1.sid,q1.sname,q1.bookno)}(\\pi_{(S1.sid,S1.sname,B1.bookno,B1.price)}(S1 \\bowtie_{(S1.sid=T1.sid)} T1 \\bowtie_{(T1.bookno=B1.bookno)} B1)q1)\n",
    " \\bowtie_ {(q1.sid=q2.sid \\wedge q1.price<q2.price)} (\\pi_{(S2.sid,S2.sname,B2.bookno,B2.price)}(S2 \\bowtie_{(S2.sid=T2.sid)} T2 \\bowtie_{(T2.bookno=B2.bookno)} B2) q2))$\n"
   ]
  },
  {
   "cell_type": "markdown",
   "metadata": {},
   "source": [
    "##### Step 3\n",
    "##### Keep only required attributes and leave out the tables not needed"
   ]
  },
  {
   "cell_type": "markdown",
   "metadata": {},
   "source": [
    "($\\pi_{(S.sid,S.sname,T.bookno)}(S \\bowtie_{(S.sid=T.sid)} T))$\n",
    "\n",
    "$-$\n",
    "\n",
    "$(\\pi_{(q1.sid,q1.sname,q1.bookno)}(\\pi_{(S1.sid,S1.sname,B1.bookno,B1.price)}(S1 \\bowtie_{(S1.sid=T1.sid)} T1 \\bowtie_{(T1.bookno=B1.bookno)} B1)q1)\n",
    " \\bowtie_ {(q1.sid=q2.sid \\wedge q1.price<q2.price)} (\\pi_{(S2.sid,S2.sname,B2.bookno,B2.price)}(S2 \\bowtie_{(S2.sid=T2.sid)} T2 \\bowtie_{(T2.bookno=B2.bookno)} B2) q2))$\n",
    "\n"
   ]
  },
  {
   "cell_type": "markdown",
   "metadata": {},
   "source": [
    "## Q.6. Part (a)"
   ]
  },
  {
   "cell_type": "markdown",
   "metadata": {},
   "source": [
    "$\\pi_{(B.bookno,B.title)}(\\pi_{(M.sid,B.bookno,B.title)}(\\sigma_{(M.major='CS'  \\vee  M.major='Math')}M \\times B)$\n",
    "\n",
    "$-$\n",
    "\n",
    "$\\pi_{(M1.sid,T1.bookno,B1.title)}(\\sigma_{(M1.sid=T1.sid \\wedge T1.bookno=B1.bookno) \\wedge (M.major='CS'  \\vee  M.major='Math')}T1 \\times M1 \\times B1))$"
   ]
  },
  {
   "cell_type": "markdown",
   "metadata": {},
   "source": [
    "## Q.6. Part (b)"
   ]
  },
  {
   "cell_type": "markdown",
   "metadata": {},
   "source": [
    "##### Step 1"
   ]
  },
  {
   "cell_type": "markdown",
   "metadata": {},
   "source": [
    "$\\pi_{(B.bookno,B.title)}(\\pi_{(M.sid,B.bookno,B.title)}(\\sigma_{(M.major='CS'  \\vee  M.major='Math')}M \\times B)$\n",
    "\n",
    "$-$\n",
    "\n",
    "$\\pi_{(M1.sid,T1.bookno,B1.title)}(\\sigma_{(M1.sid=T1.sid \\wedge T1.bookno=B1.bookno) \\wedge (M.major='CS'  \\vee  M.major='Math')}M1 \\times T1 \\times B1))$"
   ]
  },
  {
   "cell_type": "markdown",
   "metadata": {},
   "source": [
    "##### Step 2\n",
    "##### Using natural joins instead of cross joins"
   ]
  },
  {
   "cell_type": "markdown",
   "metadata": {},
   "source": [
    "$\\pi_{(B.bookno,B.title)}(\\pi_{(M.sid,B.bookno,B.title)}(\\sigma_{(M.major='CS'  \\vee  M.major='Math')}M \\times B)$\n",
    "\n",
    "$-$\n",
    "\n",
    "$\\pi_{(M1.sid,T1.bookno,B1.title)}(M1 \\bowtie_{(M1.sid=T1.sid \\wedge (M1.major='CS'  \\vee  M1.major='Math'))} T1 \\bowtie_{(T1.bookno=B1.bookno)} B1))$"
   ]
  },
  {
   "cell_type": "markdown",
   "metadata": {},
   "source": [
    "##### Step 3\n",
    "##### Pushing selections and projections before joining"
   ]
  },
  {
   "cell_type": "markdown",
   "metadata": {},
   "source": [
    "$\\pi_{(B.bookno,B.title)}(\\pi_{(M.sid,B.bookno,B.title)}(\\sigma_{(M.major='CS'  \\vee  M.major='Math')}M \\times B)$\n",
    "\n",
    "$-$\n",
    "\n",
    "$\\pi_{(M1.sid,T1.bookno,B1.title)}(\\sigma_{(M.major='CS'  \\vee  M.major='Math')}M1 \\bowtie_{(M1.sid=T1.sid)} T1 \\bowtie_{(T1.bookno=B1.bookno)} B1))$"
   ]
  },
  {
   "cell_type": "markdown",
   "metadata": {},
   "source": []
  },
  {
   "cell_type": "markdown",
   "metadata": {},
   "source": []
  },
  {
   "cell_type": "markdown",
   "metadata": {},
   "source": [
    "# Part 3"
   ]
  },
  {
   "cell_type": "markdown",
   "metadata": {},
   "source": [
    "## Q.7."
   ]
  },
  {
   "cell_type": "markdown",
   "metadata": {},
   "source": [
    "##### Query 3\n",
    "\n",
    "```mysql\n",
    "select distinct r1.a\n",
    "from R r1, R r2, R r3\n",
    "where r1.b = r2.a and r2.b = r3.a;\n",
    "```"
   ]
  },
  {
   "cell_type": "markdown",
   "metadata": {},
   "source": []
  },
  {
   "cell_type": "markdown",
   "metadata": {},
   "source": [
    "##### Part (a)\n",
    "##### Query 4\n",
    "\n",
    "```mysql\n",
    "select distinct r1.a\n",
    "from R r1 natural join \n",
    "(select distinct r2.a as b from R r2 natural join\n",
    "(select distinct r3.a as b from R r3) r3) r2;\n",
    "```"
   ]
  },
  {
   "cell_type": "markdown",
   "metadata": {},
   "source": [
    "##### Part (b)\n",
    "\n",
    "\n",
    "|makerandomR|\tQuery 3(in ms)|\tQuery 4(in ms)\n",
    "| :- |-------------: | :-:\n",
    "|(500,500,10)|\t0.12|\t0.306\n",
    "|(100,100,1000)|\t19.194|\t2.829\n",
    "|(200,200,4000)|\t318|\t20.7\n",
    "|(1000,1000,10000)|\t231.075|\t42.351\n",
    "|(500,500,25000)|\t16670|\t311\n",
    "|(1000,1000,50000)|\t21383.971|\t552.831\n",
    "|(1000,1000,100000)|\t--|\t3303"
   ]
  },
  {
   "cell_type": "markdown",
   "metadata": {},
   "source": [
    "##### Part (c)\n",
    "\n",
    "1. Query 4 is optimized, hence it takes less time than Query 3. \n",
    "\n",
    "2. Query Q3 has O($n^{3}$) time complexity because of two cross joins. Whereas, query Q4 has O(n) time complexity because natural join uses hashing. Because of this, the last query in Q3 had to be terminated.\n",
    "\n",
    "3. As the data increases, the running time increases for both the queries\n"
   ]
  },
  {
   "cell_type": "markdown",
   "metadata": {},
   "source": [
    "## Q.8."
   ]
  },
  {
   "cell_type": "markdown",
   "metadata": {},
   "source": [
    "##### Query 5\n",
    "\n",
    "```mysql\n",
    "select ra.a\n",
    "from Ra ra\n",
    "where not exists (select r.b\n",
    "from R r\n",
    "where r.a = ra.a and\n",
    "r.b not in (select s.b from S s));\n",
    "```"
   ]
  },
  {
   "cell_type": "markdown",
   "metadata": {},
   "source": [
    "##### Part (a)\n",
    "##### Query 6\n",
    "\n",
    "```mysql\n",
    "select * from Ra ra\n",
    "except\n",
    "select * from Ra ra natural join\n",
    "(select q1.a from \n",
    "(select r1.a,r1.b from R r1\n",
    "except \n",
    "select r2.a,s1.b from R r2 natural join S s1) q1) q2;\n",
    "```"
   ]
  },
  {
   "cell_type": "markdown",
   "metadata": {},
   "source": [
    "##### Part (b)\n",
    "\n",
    "\n",
    "|makerandomR|\tmakerandomS|\tQuery 5(in ms)|\tQuery 6(in ms)\n",
    "| :- |-------------: | :-:|:-:\n",
    "|(500,500,5000)|\t(500,5000)|\t1.561|\t6.013\n",
    "|(1000,1000,10000)|\t(1000,10000)|\t2.6|\t8.02\n",
    "|(1000,2000,10000)|\t(2000,10000)|\t2.95\t|12.138\n",
    "|(1000,5000,10000)|\t(5000,10000)|\t3.488\t|16.12\n",
    "|(2000,2000,40000)|\t(2000,40000)|\t10.919\t|51.369\n",
    "|(2000,2000,80000)|\t(2000,80000)|\t17.162\t|85.329\n"
   ]
  },
  {
   "cell_type": "markdown",
   "metadata": {},
   "source": [
    "##### Part (c)\n",
    "\n",
    "1. As we can see from the above table Query 5 takes lesser time than Query 6, hence it outperforms it.\n",
    "2. Use of natural join and optimization did not help in this case.\n",
    "3. Although, the ratio of running times remains same in all the cases. Q5:Q6 is around 1:4. Therefore the O() complexity has remained the same.\n"
   ]
  },
  {
   "cell_type": "markdown",
   "metadata": {},
   "source": [
    "## Q.9."
   ]
  },
  {
   "cell_type": "markdown",
   "metadata": {},
   "source": [
    "##### Query 7\n",
    "\n",
    "```mysql\n",
    "select ra.a\n",
    "from Ra ra\n",
    "where not exists (select s.b\n",
    "from S s\n",
    "where s.b not in (select r.b\n",
    "from R r\n",
    "where r.a = ra.a));\n",
    "```"
   ]
  },
  {
   "cell_type": "markdown",
   "metadata": {},
   "source": [
    "##### Part (a)\n",
    "##### Query 8\n",
    "\n",
    "```mysql\n",
    "select ra.a\n",
    "from Ra ra\n",
    "except \n",
    "select q.a from \n",
    "(select ra.a,s.b\n",
    "from S s cross join Ra ra\n",
    "except \n",
    "select ra.a,s.b\n",
    "from S s natural join R r natural join Ra ra)q;\n",
    "\n",
    "```"
   ]
  },
  {
   "cell_type": "markdown",
   "metadata": {},
   "source": [
    "##### Part (b)\n",
    "\n",
    "\n",
    "|makerandomR|\tmakerandomS|\tQuery 7(in ms)|\tQuery 8(in ms)\n",
    "| :- |-------------: | :-:|:-:\n",
    "|(500,500,5000)|\t(500,5000)|\t198|\t205.7\n",
    "|(1000,1000,10000)|\t(1000,10000)|\t704|\t677\n",
    "|(1000,2000,10000)|\t(2000,10000)|\t749|\t745.1\n",
    "|(1000,5000,10000)|\t(5000,10000)|\t991|\t774\n",
    "|(2000,2000,40000)|\t(2000,40000)|\t5914|\t3525.903\n",
    "|(2000,2000,80000)|\t(2000,80000)|\t12364|\t4457.523"
   ]
  },
  {
   "cell_type": "markdown",
   "metadata": {},
   "source": [
    "##### Part (c)\n",
    "\n",
    "1. It can be seen that Query 8 performs better than Query 7 as the data is increased.\n",
    "2. As the data increases, the running time increases for both the queries, but it is quadratic for Query 7 as well as Query 8.\n",
    "3. Query 7 uses sequential scan but it doesn't use hashing, hence it is slower.\n",
    "4. Query 8 uses cross join, but with hashing, hence it is faster\n"
   ]
  },
  {
   "cell_type": "markdown",
   "metadata": {},
   "source": [
    "##### Part (d)\n",
    "\n",
    "1. Between Query 5 and Query 8\n",
    "2. Query 8 takes exponentially more time than Query 5 in Problem No. 8 and Problem No. 9.\n",
    "3. Hence, we can satisfactorily conclude that ONLY set query is faster than the ALL set query.\n",
    "4. ONLY set setjoin is faster than ALL set semijoin."
   ]
  },
  {
   "cell_type": "markdown",
   "metadata": {},
   "source": [
    "## Q.10."
   ]
  },
  {
   "cell_type": "markdown",
   "metadata": {},
   "source": [
    "##### Part (a)\n",
    "##### Query 9\n",
    "\n",
    "```mysql\n",
    "with  NestedR as (select  r.a, array_agg(r.b order by 1) as Bs\n",
    "from    R r\n",
    "group by (r.a)),\n",
    "SetS as (select array(select s.b from S s order by 1) as Bs)\n",
    "select r.a\n",
    "from   NestedR r, SetS s\n",
    "where  r.Bs <@ s.Bs\n",
    "union\n",
    "(select ra.a\n",
    " from Ra ra\n",
    " except\n",
    " select r.a\n",
    " from   R r);\n",
    "```"
   ]
  },
  {
   "cell_type": "markdown",
   "metadata": {},
   "source": [
    "##### Explain briefly how query Q9 works and how it solves the problem."
   ]
  },
  {
   "cell_type": "markdown",
   "metadata": {},
   "source": [
    "Query 9's working is explained below:\n",
    "    \n",
    "    'NestedR' is a view which returns 'a' and its corresponding 'b' as an array from the table 'R'.\n",
    "    'SetS' is a view which returns all the records in the table 'S' as an array.\n",
    "    It takes all the elements from 'a' in 'R' for which corresponding 'b' does not exist in 'S'.\n",
    "    It creates 2 sets where 'a' with corresponding 'b' from one set equals to 'b' of the other set.\n",
    "    It includes all 'a' from 'R' where array('b') from 'R' is a subset of array('b') from 'S'."
   ]
  },
  {
   "cell_type": "markdown",
   "metadata": {},
   "source": [
    "|makerandomR|\tmakerandomS|\tQuery 5(in ms)|\tQuery 6(in ms)|Query 9(in ms)\n",
    "| :- |-------------: | :-:|:-:|:-:\n",
    "|(500,500,5000)|\t(500,5000)|\t1.561|\t6.013|\t6.443\n",
    "|(1000,1000,10000)|\t(1000,10000)|\t2.6\t|8.02\t|19.903\n",
    "|(1000,2000,10000)|\t(2000,10000)|\t2.95\t|12.138\t|28.544\n",
    "|(1000,5000,10000)|\t(5000,10000)|\t3.488\t|16.12\t|34.866\n",
    "|(2000,2000,40000)|\t(2000,40000)|\t10.919\t|51.369\t|106.838\n",
    "|(2000,2000,80000)|\t(2000,80000)|\t17.162\t|85.329\t|202.644"
   ]
  },
  {
   "cell_type": "markdown",
   "metadata": {},
   "source": [
    "##### Part (b)\n",
    "1. Query 9 and Query 6 have similar running times. They are asymptotically the same.\n",
    "2. Query 5 runs in O(n) time and is faster than both Query 9 and Query 6.\n",
    "3. NOT EXISTS and NOT IN performs better than than pure SQL and set objects method.\n"
   ]
  },
  {
   "cell_type": "markdown",
   "metadata": {},
   "source": [
    "## Q.11."
   ]
  },
  {
   "cell_type": "markdown",
   "metadata": {},
   "source": [
    "##### Part (a)\n",
    "##### Query 10\n",
    "\n",
    "```mysql\n",
    "with NestedR as (select r.a, array_agg(r.b order by 1) as Bs\n",
    "from R r\n",
    "group by (r.a)),\n",
    "SetS as (select array(select s.b from S s order by 1) as Bs)\n",
    "select r.a\n",
    "from NestedR r, SetS s\n",
    "where s.Bs <@ r.Bs;\n",
    "```"
   ]
  },
  {
   "cell_type": "markdown",
   "metadata": {},
   "source": [
    "##### Explain briefly how query Q10 works and how it solves the problem."
   ]
  },
  {
   "cell_type": "markdown",
   "metadata": {},
   "source": [
    "Query 10's working is explained below:\n",
    "\n",
    "    Similar to the previous question,\n",
    "    'NestedR' is a view which returns 'a' and its corresponding 'b' as an array from the table 'R'.\n",
    "    'SetS' is a view which returns all the records in the table 'S' as an array.\n",
    "    We take all 'a' from R where S(b) array is a subset of R(b) array."
   ]
  },
  {
   "cell_type": "markdown",
   "metadata": {},
   "source": [
    "|makerandomR|\tmakerandomS|\tQuery 7(in ms)|\tQuery 8(in ms)|Query 10(in ms)\n",
    "| :- |-------------: | :-:|:-:|:-:\n",
    "|(500,500,5000)|\t(500,5000)|\t198|\t205.7 |1.35\n",
    "|(1000,1000,10000)|\t(1000,10000)|\t704|\t677 |7.9\n",
    "|(1000,2000,10000)|\t(2000,10000)|\t749|\t745.1 |9.67\n",
    "|(1000,5000,10000)|\t(5000,10000)|\t991|\t774 |12.073\n",
    "|(2000,2000,40000)|\t(2000,40000)|\t5914|\t3525.903|29.002\n",
    "|(2000,2000,80000)|\t(2000,80000)|\t12364|\t4457.523 |61.517"
   ]
  },
  {
   "cell_type": "markdown",
   "metadata": {},
   "source": [
    "##### Part (b)\n",
    "Additional tests for Query 8 and Query 10\n",
    "\n",
    "\n",
    "|makerandomR|\tmakerandomS|\tQuery 8(in ms)|\tQuery 10(in ms)\n",
    "| :- |-------------: | :-:|:-:|\n",
    "|(100,100,1000)\t|(100,1000)\t|8.5|\t0.56\n",
    "|(500,500,25000)|\t(500,25000)|\t208|\t12.6\n",
    "|(1000,1000,100000) |\t(1000,100000) |\t1139|\t58.7\n",
    "|(2000,2000,400000) |\t(2000,400000) |\t3815|\t213.789\n",
    "|(5000,5000,2500000)|\t(5000,2500000)|\t34856\t| 1466"
   ]
  },
  {
   "cell_type": "markdown",
   "metadata": {},
   "source": [
    "##### Part (c)\n",
    "\n",
    "1. We can see from the first table that Query 10 out performs Query 7 as well as Query 8 by a huge margin.\n",
    "2. Using object relational database methods improves performance as compared to Pure SQL and set predicates methods.\n",
    "3. This implementation of ALL set semijoin uses arrays and set of objects, which works very well\n",
    "\n"
   ]
  },
  {
   "cell_type": "code",
   "execution_count": null,
   "metadata": {},
   "outputs": [],
   "source": []
  }
 ],
 "metadata": {
  "kernelspec": {
   "display_name": "Python 3",
   "language": "python",
   "name": "python3"
  },
  "language_info": {
   "codemirror_mode": {
    "name": "ipython",
    "version": 3
   },
   "file_extension": ".py",
   "mimetype": "text/x-python",
   "name": "python",
   "nbconvert_exporter": "python",
   "pygments_lexer": "ipython3",
   "version": "3.7.4"
  }
 },
 "nbformat": 4,
 "nbformat_minor": 2
}
